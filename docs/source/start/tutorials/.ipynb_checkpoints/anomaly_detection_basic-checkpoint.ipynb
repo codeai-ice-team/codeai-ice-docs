{
 "cells": [
  {
   "cell_type": "markdown",
   "id": "b3ceb4f1",
   "metadata": {},
   "source": [
    "# Tutorial on anomaly detection task"
   ]
  },
  {
   "cell_type": "code",
   "execution_count": null,
   "id": "741dc760",
   "metadata": {},
   "outputs": [],
   "source": [
    "import numpy as np\n",
    "from sklearn.preprocessing import StandardScaler\n",
    "\n",
    "from ice.anomaly_detection.datasets import AnomalyDetectionSmallTEP\n",
    "from ice.anomaly_detection.models import AE"
   ]
  },
  {
   "cell_type": "markdown",
   "id": "d6b9fced",
   "metadata": {},
   "source": [
    "Download the dataset."
   ]
  },
  {
   "cell_type": "code",
   "execution_count": 2,
   "id": "d6ca9486",
   "metadata": {},
   "outputs": [
    {
     "data": {
      "application/vnd.jupyter.widget-view+json": {
       "model_id": "01567364f58a4e3da97748b434e1eaab",
       "version_major": 2,
       "version_minor": 0
      },
      "text/plain": [
       "Reading data/small_tep/df.csv:   0%|          | 0/153300 [00:00<?, ?it/s]"
      ]
     },
     "metadata": {},
     "output_type": "display_data"
    },
    {
     "data": {
      "application/vnd.jupyter.widget-view+json": {
       "model_id": "198e01d66c004180a6fc41218bea71e1",
       "version_major": 2,
       "version_minor": 0
      },
      "text/plain": [
       "Reading data/small_tep/target.csv:   0%|          | 0/153300 [00:00<?, ?it/s]"
      ]
     },
     "metadata": {},
     "output_type": "display_data"
    },
    {
     "data": {
      "application/vnd.jupyter.widget-view+json": {
       "model_id": "32eebcd2851f4c88b978ef6bc5cd7c9a",
       "version_major": 2,
       "version_minor": 0
      },
      "text/plain": [
       "Reading data/small_tep/train_mask.csv:   0%|          | 0/153300 [00:00<?, ?it/s]"
      ]
     },
     "metadata": {},
     "output_type": "display_data"
    }
   ],
   "source": [
    "dataset = AnomalyDetectionSmallTEP()"
   ]
  },
  {
   "cell_type": "code",
   "execution_count": 3,
   "id": "92db5267",
   "metadata": {},
   "outputs": [
    {
     "data": {
      "text/html": [
       "<div>\n",
       "<style scoped>\n",
       "    .dataframe tbody tr th:only-of-type {\n",
       "        vertical-align: middle;\n",
       "    }\n",
       "\n",
       "    .dataframe tbody tr th {\n",
       "        vertical-align: top;\n",
       "    }\n",
       "\n",
       "    .dataframe thead th {\n",
       "        text-align: right;\n",
       "    }\n",
       "</style>\n",
       "<table border=\"1\" class=\"dataframe\">\n",
       "  <thead>\n",
       "    <tr style=\"text-align: right;\">\n",
       "      <th></th>\n",
       "      <th></th>\n",
       "      <th>xmeas_1</th>\n",
       "      <th>xmeas_2</th>\n",
       "      <th>xmeas_3</th>\n",
       "      <th>xmeas_4</th>\n",
       "      <th>xmeas_5</th>\n",
       "      <th>xmeas_6</th>\n",
       "      <th>xmeas_7</th>\n",
       "      <th>xmeas_8</th>\n",
       "      <th>xmeas_9</th>\n",
       "      <th>xmeas_10</th>\n",
       "      <th>...</th>\n",
       "      <th>xmv_2</th>\n",
       "      <th>xmv_3</th>\n",
       "      <th>xmv_4</th>\n",
       "      <th>xmv_5</th>\n",
       "      <th>xmv_6</th>\n",
       "      <th>xmv_7</th>\n",
       "      <th>xmv_8</th>\n",
       "      <th>xmv_9</th>\n",
       "      <th>xmv_10</th>\n",
       "      <th>xmv_11</th>\n",
       "    </tr>\n",
       "    <tr>\n",
       "      <th>run_id</th>\n",
       "      <th>sample</th>\n",
       "      <th></th>\n",
       "      <th></th>\n",
       "      <th></th>\n",
       "      <th></th>\n",
       "      <th></th>\n",
       "      <th></th>\n",
       "      <th></th>\n",
       "      <th></th>\n",
       "      <th></th>\n",
       "      <th></th>\n",
       "      <th></th>\n",
       "      <th></th>\n",
       "      <th></th>\n",
       "      <th></th>\n",
       "      <th></th>\n",
       "      <th></th>\n",
       "      <th></th>\n",
       "      <th></th>\n",
       "      <th></th>\n",
       "      <th></th>\n",
       "      <th></th>\n",
       "    </tr>\n",
       "  </thead>\n",
       "  <tbody>\n",
       "    <tr>\n",
       "      <th rowspan=\"5\" valign=\"top\">413402073</th>\n",
       "      <th>1</th>\n",
       "      <td>0.25038</td>\n",
       "      <td>3674.0</td>\n",
       "      <td>4529.0</td>\n",
       "      <td>9.2320</td>\n",
       "      <td>26.889</td>\n",
       "      <td>42.402</td>\n",
       "      <td>2704.3</td>\n",
       "      <td>74.863</td>\n",
       "      <td>120.41</td>\n",
       "      <td>0.33818</td>\n",
       "      <td>...</td>\n",
       "      <td>53.744</td>\n",
       "      <td>24.657</td>\n",
       "      <td>62.544</td>\n",
       "      <td>22.137</td>\n",
       "      <td>39.935</td>\n",
       "      <td>42.323</td>\n",
       "      <td>47.757</td>\n",
       "      <td>47.510</td>\n",
       "      <td>41.258</td>\n",
       "      <td>18.447</td>\n",
       "    </tr>\n",
       "    <tr>\n",
       "      <th>2</th>\n",
       "      <td>0.25109</td>\n",
       "      <td>3659.4</td>\n",
       "      <td>4556.6</td>\n",
       "      <td>9.4264</td>\n",
       "      <td>26.721</td>\n",
       "      <td>42.576</td>\n",
       "      <td>2705.0</td>\n",
       "      <td>75.000</td>\n",
       "      <td>120.41</td>\n",
       "      <td>0.33620</td>\n",
       "      <td>...</td>\n",
       "      <td>53.414</td>\n",
       "      <td>24.588</td>\n",
       "      <td>59.259</td>\n",
       "      <td>22.084</td>\n",
       "      <td>40.176</td>\n",
       "      <td>38.554</td>\n",
       "      <td>43.692</td>\n",
       "      <td>47.427</td>\n",
       "      <td>41.359</td>\n",
       "      <td>17.194</td>\n",
       "    </tr>\n",
       "    <tr>\n",
       "      <th>3</th>\n",
       "      <td>0.25038</td>\n",
       "      <td>3660.3</td>\n",
       "      <td>4477.8</td>\n",
       "      <td>9.4426</td>\n",
       "      <td>26.875</td>\n",
       "      <td>42.070</td>\n",
       "      <td>2706.2</td>\n",
       "      <td>74.771</td>\n",
       "      <td>120.42</td>\n",
       "      <td>0.33563</td>\n",
       "      <td>...</td>\n",
       "      <td>54.357</td>\n",
       "      <td>24.666</td>\n",
       "      <td>61.275</td>\n",
       "      <td>22.380</td>\n",
       "      <td>40.244</td>\n",
       "      <td>38.990</td>\n",
       "      <td>46.699</td>\n",
       "      <td>47.468</td>\n",
       "      <td>41.199</td>\n",
       "      <td>20.530</td>\n",
       "    </tr>\n",
       "    <tr>\n",
       "      <th>4</th>\n",
       "      <td>0.24977</td>\n",
       "      <td>3661.3</td>\n",
       "      <td>4512.1</td>\n",
       "      <td>9.4776</td>\n",
       "      <td>26.758</td>\n",
       "      <td>42.063</td>\n",
       "      <td>2707.2</td>\n",
       "      <td>75.224</td>\n",
       "      <td>120.39</td>\n",
       "      <td>0.33553</td>\n",
       "      <td>...</td>\n",
       "      <td>53.946</td>\n",
       "      <td>24.725</td>\n",
       "      <td>59.856</td>\n",
       "      <td>22.277</td>\n",
       "      <td>40.257</td>\n",
       "      <td>38.072</td>\n",
       "      <td>47.541</td>\n",
       "      <td>47.658</td>\n",
       "      <td>41.643</td>\n",
       "      <td>18.089</td>\n",
       "    </tr>\n",
       "    <tr>\n",
       "      <th>5</th>\n",
       "      <td>0.29405</td>\n",
       "      <td>3679.0</td>\n",
       "      <td>4497.0</td>\n",
       "      <td>9.3381</td>\n",
       "      <td>26.889</td>\n",
       "      <td>42.650</td>\n",
       "      <td>2705.1</td>\n",
       "      <td>75.388</td>\n",
       "      <td>120.39</td>\n",
       "      <td>0.32632</td>\n",
       "      <td>...</td>\n",
       "      <td>53.658</td>\n",
       "      <td>28.797</td>\n",
       "      <td>60.717</td>\n",
       "      <td>21.947</td>\n",
       "      <td>39.144</td>\n",
       "      <td>41.955</td>\n",
       "      <td>47.645</td>\n",
       "      <td>47.346</td>\n",
       "      <td>41.507</td>\n",
       "      <td>18.461</td>\n",
       "    </tr>\n",
       "    <tr>\n",
       "      <th>...</th>\n",
       "      <th>...</th>\n",
       "      <td>...</td>\n",
       "      <td>...</td>\n",
       "      <td>...</td>\n",
       "      <td>...</td>\n",
       "      <td>...</td>\n",
       "      <td>...</td>\n",
       "      <td>...</td>\n",
       "      <td>...</td>\n",
       "      <td>...</td>\n",
       "      <td>...</td>\n",
       "      <td>...</td>\n",
       "      <td>...</td>\n",
       "      <td>...</td>\n",
       "      <td>...</td>\n",
       "      <td>...</td>\n",
       "      <td>...</td>\n",
       "      <td>...</td>\n",
       "      <td>...</td>\n",
       "      <td>...</td>\n",
       "      <td>...</td>\n",
       "      <td>...</td>\n",
       "    </tr>\n",
       "    <tr>\n",
       "      <th rowspan=\"5\" valign=\"top\">312148819</th>\n",
       "      <th>956</th>\n",
       "      <td>0.24842</td>\n",
       "      <td>3694.2</td>\n",
       "      <td>4491.2</td>\n",
       "      <td>9.3946</td>\n",
       "      <td>26.780</td>\n",
       "      <td>42.655</td>\n",
       "      <td>2708.3</td>\n",
       "      <td>74.765</td>\n",
       "      <td>120.41</td>\n",
       "      <td>0.32959</td>\n",
       "      <td>...</td>\n",
       "      <td>53.891</td>\n",
       "      <td>24.580</td>\n",
       "      <td>63.320</td>\n",
       "      <td>21.867</td>\n",
       "      <td>38.868</td>\n",
       "      <td>36.061</td>\n",
       "      <td>48.088</td>\n",
       "      <td>45.470</td>\n",
       "      <td>41.463</td>\n",
       "      <td>17.078</td>\n",
       "    </tr>\n",
       "    <tr>\n",
       "      <th>957</th>\n",
       "      <td>0.22612</td>\n",
       "      <td>3736.4</td>\n",
       "      <td>4523.1</td>\n",
       "      <td>9.3655</td>\n",
       "      <td>26.778</td>\n",
       "      <td>42.730</td>\n",
       "      <td>2711.0</td>\n",
       "      <td>75.142</td>\n",
       "      <td>120.38</td>\n",
       "      <td>0.32645</td>\n",
       "      <td>...</td>\n",
       "      <td>53.675</td>\n",
       "      <td>21.831</td>\n",
       "      <td>64.142</td>\n",
       "      <td>22.027</td>\n",
       "      <td>38.842</td>\n",
       "      <td>39.144</td>\n",
       "      <td>44.560</td>\n",
       "      <td>45.598</td>\n",
       "      <td>41.591</td>\n",
       "      <td>16.720</td>\n",
       "    </tr>\n",
       "    <tr>\n",
       "      <th>958</th>\n",
       "      <td>0.22386</td>\n",
       "      <td>3692.8</td>\n",
       "      <td>4476.5</td>\n",
       "      <td>9.3984</td>\n",
       "      <td>26.673</td>\n",
       "      <td>42.528</td>\n",
       "      <td>2712.7</td>\n",
       "      <td>74.679</td>\n",
       "      <td>120.43</td>\n",
       "      <td>0.32484</td>\n",
       "      <td>...</td>\n",
       "      <td>54.233</td>\n",
       "      <td>22.053</td>\n",
       "      <td>59.228</td>\n",
       "      <td>22.235</td>\n",
       "      <td>39.040</td>\n",
       "      <td>35.116</td>\n",
       "      <td>45.737</td>\n",
       "      <td>45.490</td>\n",
       "      <td>41.884</td>\n",
       "      <td>16.310</td>\n",
       "    </tr>\n",
       "    <tr>\n",
       "      <th>959</th>\n",
       "      <td>0.22561</td>\n",
       "      <td>3664.2</td>\n",
       "      <td>4483.0</td>\n",
       "      <td>9.4293</td>\n",
       "      <td>26.435</td>\n",
       "      <td>42.469</td>\n",
       "      <td>2710.2</td>\n",
       "      <td>74.857</td>\n",
       "      <td>120.38</td>\n",
       "      <td>0.31932</td>\n",
       "      <td>...</td>\n",
       "      <td>53.335</td>\n",
       "      <td>22.248</td>\n",
       "      <td>60.567</td>\n",
       "      <td>21.820</td>\n",
       "      <td>37.979</td>\n",
       "      <td>33.394</td>\n",
       "      <td>48.503</td>\n",
       "      <td>45.512</td>\n",
       "      <td>40.630</td>\n",
       "      <td>20.996</td>\n",
       "    </tr>\n",
       "    <tr>\n",
       "      <th>960</th>\n",
       "      <td>0.22585</td>\n",
       "      <td>3717.6</td>\n",
       "      <td>4492.8</td>\n",
       "      <td>9.4061</td>\n",
       "      <td>26.869</td>\n",
       "      <td>42.176</td>\n",
       "      <td>2710.5</td>\n",
       "      <td>74.722</td>\n",
       "      <td>120.41</td>\n",
       "      <td>0.31926</td>\n",
       "      <td>...</td>\n",
       "      <td>53.217</td>\n",
       "      <td>22.225</td>\n",
       "      <td>63.429</td>\n",
       "      <td>22.259</td>\n",
       "      <td>37.986</td>\n",
       "      <td>34.810</td>\n",
       "      <td>47.810</td>\n",
       "      <td>45.639</td>\n",
       "      <td>41.898</td>\n",
       "      <td>18.378</td>\n",
       "    </tr>\n",
       "  </tbody>\n",
       "</table>\n",
       "<p>153300 rows × 52 columns</p>\n",
       "</div>"
      ],
      "text/plain": [
       "                  xmeas_1  xmeas_2  xmeas_3  xmeas_4  xmeas_5  xmeas_6  \\\n",
       "run_id    sample                                                         \n",
       "413402073 1       0.25038   3674.0   4529.0   9.2320   26.889   42.402   \n",
       "          2       0.25109   3659.4   4556.6   9.4264   26.721   42.576   \n",
       "          3       0.25038   3660.3   4477.8   9.4426   26.875   42.070   \n",
       "          4       0.24977   3661.3   4512.1   9.4776   26.758   42.063   \n",
       "          5       0.29405   3679.0   4497.0   9.3381   26.889   42.650   \n",
       "...                   ...      ...      ...      ...      ...      ...   \n",
       "312148819 956     0.24842   3694.2   4491.2   9.3946   26.780   42.655   \n",
       "          957     0.22612   3736.4   4523.1   9.3655   26.778   42.730   \n",
       "          958     0.22386   3692.8   4476.5   9.3984   26.673   42.528   \n",
       "          959     0.22561   3664.2   4483.0   9.4293   26.435   42.469   \n",
       "          960     0.22585   3717.6   4492.8   9.4061   26.869   42.176   \n",
       "\n",
       "                  xmeas_7  xmeas_8  xmeas_9  xmeas_10  ...   xmv_2   xmv_3  \\\n",
       "run_id    sample                                       ...                   \n",
       "413402073 1        2704.3   74.863   120.41   0.33818  ...  53.744  24.657   \n",
       "          2        2705.0   75.000   120.41   0.33620  ...  53.414  24.588   \n",
       "          3        2706.2   74.771   120.42   0.33563  ...  54.357  24.666   \n",
       "          4        2707.2   75.224   120.39   0.33553  ...  53.946  24.725   \n",
       "          5        2705.1   75.388   120.39   0.32632  ...  53.658  28.797   \n",
       "...                   ...      ...      ...       ...  ...     ...     ...   \n",
       "312148819 956      2708.3   74.765   120.41   0.32959  ...  53.891  24.580   \n",
       "          957      2711.0   75.142   120.38   0.32645  ...  53.675  21.831   \n",
       "          958      2712.7   74.679   120.43   0.32484  ...  54.233  22.053   \n",
       "          959      2710.2   74.857   120.38   0.31932  ...  53.335  22.248   \n",
       "          960      2710.5   74.722   120.41   0.31926  ...  53.217  22.225   \n",
       "\n",
       "                   xmv_4   xmv_5   xmv_6   xmv_7   xmv_8   xmv_9  xmv_10  \\\n",
       "run_id    sample                                                           \n",
       "413402073 1       62.544  22.137  39.935  42.323  47.757  47.510  41.258   \n",
       "          2       59.259  22.084  40.176  38.554  43.692  47.427  41.359   \n",
       "          3       61.275  22.380  40.244  38.990  46.699  47.468  41.199   \n",
       "          4       59.856  22.277  40.257  38.072  47.541  47.658  41.643   \n",
       "          5       60.717  21.947  39.144  41.955  47.645  47.346  41.507   \n",
       "...                  ...     ...     ...     ...     ...     ...     ...   \n",
       "312148819 956     63.320  21.867  38.868  36.061  48.088  45.470  41.463   \n",
       "          957     64.142  22.027  38.842  39.144  44.560  45.598  41.591   \n",
       "          958     59.228  22.235  39.040  35.116  45.737  45.490  41.884   \n",
       "          959     60.567  21.820  37.979  33.394  48.503  45.512  40.630   \n",
       "          960     63.429  22.259  37.986  34.810  47.810  45.639  41.898   \n",
       "\n",
       "                  xmv_11  \n",
       "run_id    sample          \n",
       "413402073 1       18.447  \n",
       "          2       17.194  \n",
       "          3       20.530  \n",
       "          4       18.089  \n",
       "          5       18.461  \n",
       "...                  ...  \n",
       "312148819 956     17.078  \n",
       "          957     16.720  \n",
       "          958     16.310  \n",
       "          959     20.996  \n",
       "          960     18.378  \n",
       "\n",
       "[153300 rows x 52 columns]"
      ]
     },
     "execution_count": 3,
     "metadata": {},
     "output_type": "execute_result"
    }
   ],
   "source": [
    "dataset.df"
   ]
  },
  {
   "cell_type": "code",
   "execution_count": 4,
   "id": "5021318f",
   "metadata": {},
   "outputs": [
    {
     "data": {
      "text/plain": [
       "run_id     sample\n",
       "413402073  1         0\n",
       "           2         0\n",
       "           3         0\n",
       "           4         0\n",
       "           5         0\n",
       "                    ..\n",
       "312148819  956       1\n",
       "           957       1\n",
       "           958       1\n",
       "           959       1\n",
       "           960       1\n",
       "Name: target, Length: 153300, dtype: int64"
      ]
     },
     "execution_count": 4,
     "metadata": {},
     "output_type": "execute_result"
    }
   ],
   "source": [
    "dataset.target"
   ]
  },
  {
   "cell_type": "markdown",
   "id": "6bd716cf",
   "metadata": {},
   "source": [
    "Split the data into train and test sets by `run_id`."
   ]
  },
  {
   "cell_type": "markdown",
   "id": "71b30525",
   "metadata": {},
   "source": [
    "Scale the data."
   ]
  },
  {
   "cell_type": "code",
   "execution_count": 5,
   "id": "77572a8e",
   "metadata": {},
   "outputs": [],
   "source": [
    "scaler = StandardScaler()\n",
    "dataset.df[dataset.train_mask] = scaler.fit_transform(dataset.df[dataset.train_mask])\n",
    "dataset.df[dataset.test_mask] = scaler.transform(dataset.df[dataset.test_mask])"
   ]
  },
  {
   "cell_type": "markdown",
   "id": "b2a742bd",
   "metadata": {},
   "source": [
    "Create the [MLP](ice.fault_diagnosis.models.mlp) model."
   ]
  },
  {
   "cell_type": "code",
   "execution_count": 21,
   "id": "8d04ae19",
   "metadata": {
    "scrolled": true
   },
   "outputs": [
    {
     "name": "stderr",
     "output_type": "stream",
     "text": [
      "C:\\Users\\kovalenko\\codeai-ice-develop\\ice\\anomaly_detection\\models\\base.py:62: SettingWithCopyWarning: \n",
      "A value is trying to be set on a copy of a slice from a DataFrame\n",
      "\n",
      "See the caveats in the documentation: https://pandas.pydata.org/pandas-docs/stable/user_guide/indexing.html#returning-a-view-versus-a-copy\n",
      "  df.loc[:] = self.scaler.transform(df)\n"
     ]
    },
    {
     "data": {
      "application/vnd.jupyter.widget-view+json": {
       "model_id": "13bd7ca1a8c340d9b851c50b41a3a588",
       "version_major": 2,
       "version_minor": 0
      },
      "text/plain": [
       "Creating sequence of samples:   0%|          | 0/105 [00:00<?, ?it/s]"
      ]
     },
     "metadata": {},
     "output_type": "display_data"
    },
    {
     "data": {
      "application/vnd.jupyter.widget-view+json": {
       "model_id": "6a79d74c107543049e44fe9e48666f29",
       "version_major": 2,
       "version_minor": 0
      },
      "text/plain": [
       "Epochs ...:   0%|          | 0/3 [00:00<?, ?it/s]"
      ]
     },
     "metadata": {},
     "output_type": "display_data"
    },
    {
     "data": {
      "application/vnd.jupyter.widget-view+json": {
       "model_id": "",
       "version_major": 2,
       "version_minor": 0
      },
      "text/plain": [
       "Steps ...:   0%|          | 0/27 [00:00<?, ?it/s]"
      ]
     },
     "metadata": {},
     "output_type": "display_data"
    },
    {
     "name": "stdout",
     "output_type": "stream",
     "text": [
      "Epoch 1, Loss: 0.9685\n"
     ]
    },
    {
     "data": {
      "application/vnd.jupyter.widget-view+json": {
       "model_id": "",
       "version_major": 2,
       "version_minor": 0
      },
      "text/plain": [
       "Steps ...:   0%|          | 0/27 [00:00<?, ?it/s]"
      ]
     },
     "metadata": {},
     "output_type": "display_data"
    },
    {
     "name": "stdout",
     "output_type": "stream",
     "text": [
      "Epoch 2, Loss: 0.8739\n"
     ]
    },
    {
     "data": {
      "application/vnd.jupyter.widget-view+json": {
       "model_id": "",
       "version_major": 2,
       "version_minor": 0
      },
      "text/plain": [
       "Steps ...:   0%|          | 0/27 [00:00<?, ?it/s]"
      ]
     },
     "metadata": {},
     "output_type": "display_data"
    },
    {
     "name": "stdout",
     "output_type": "stream",
     "text": [
      "Epoch 3, Loss: 0.8199\n"
     ]
    }
   ],
   "source": [
    "model = AE(window_size=10, lr=0.001, num_epochs=3, verbose=True, treshold=0.5, layers_dim = [300, 150, 70, 35, 15])\n",
    "model.fit(dataset.df[dataset.train_mask])"
   ]
  },
  {
   "cell_type": "code",
   "execution_count": 22,
   "id": "75056c15",
   "metadata": {},
   "outputs": [
    {
     "data": {
      "text/plain": [
       "AutoencoderMLP(\n",
       "  (encoder): Sequential(\n",
       "    (0): Flatten(start_dim=1, end_dim=-1)\n",
       "    (1): Linear(in_features=520, out_features=300, bias=True)\n",
       "    (2): ReLU()\n",
       "    (3): Linear(in_features=300, out_features=150, bias=True)\n",
       "    (4): ReLU()\n",
       "    (5): Linear(in_features=150, out_features=70, bias=True)\n",
       "    (6): ReLU()\n",
       "    (7): Linear(in_features=70, out_features=35, bias=True)\n",
       "    (8): ReLU()\n",
       "    (9): Linear(in_features=35, out_features=15, bias=True)\n",
       "    (10): ReLU()\n",
       "  )\n",
       "  (decoder): Sequential(\n",
       "    (0): Linear(in_features=15, out_features=35, bias=True)\n",
       "    (1): ReLU()\n",
       "    (2): Linear(in_features=35, out_features=70, bias=True)\n",
       "    (3): ReLU()\n",
       "    (4): Linear(in_features=70, out_features=150, bias=True)\n",
       "    (5): ReLU()\n",
       "    (6): Linear(in_features=150, out_features=300, bias=True)\n",
       "    (7): ReLU()\n",
       "    (8): Linear(in_features=300, out_features=520, bias=True)\n",
       "  )\n",
       ")"
      ]
     },
     "execution_count": 22,
     "metadata": {},
     "output_type": "execute_result"
    }
   ],
   "source": [
    "model.model"
   ]
  },
  {
   "cell_type": "markdown",
   "id": "dd8990a1",
   "metadata": {},
   "source": [
    "Evaluate the metrics."
   ]
  },
  {
   "cell_type": "code",
   "execution_count": 23,
   "id": "3d761723",
   "metadata": {},
   "outputs": [
    {
     "name": "stderr",
     "output_type": "stream",
     "text": [
      "C:\\Users\\kovalenko\\codeai-ice-develop\\ice\\anomaly_detection\\models\\base.py:115: SettingWithCopyWarning: \n",
      "A value is trying to be set on a copy of a slice from a DataFrame\n",
      "\n",
      "See the caveats in the documentation: https://pandas.pydata.org/pandas-docs/stable/user_guide/indexing.html#returning-a-view-versus-a-copy\n",
      "  df.loc[:] = self.scaler.transform(df)\n"
     ]
    },
    {
     "data": {
      "application/vnd.jupyter.widget-view+json": {
       "model_id": "67d19dc29c8642ae801ded4a3937cf16",
       "version_major": 2,
       "version_minor": 0
      },
      "text/plain": [
       "Creating sequence of samples:   0%|          | 0/105 [00:00<?, ?it/s]"
      ]
     },
     "metadata": {},
     "output_type": "display_data"
    },
    {
     "data": {
      "application/vnd.jupyter.widget-view+json": {
       "model_id": "",
       "version_major": 2,
       "version_minor": 0
      },
      "text/plain": [
       "Steps ...:   0%|          | 0/780 [00:00<?, ?it/s]"
      ]
     },
     "metadata": {},
     "output_type": "display_data"
    },
    {
     "data": {
      "text/plain": [
       "{'accuracy': 0.8131228070175439}"
      ]
     },
     "execution_count": 23,
     "metadata": {},
     "output_type": "execute_result"
    }
   ],
   "source": [
    "metrics = model.evaluate(dataset.df[dataset.test_mask], dataset.target[dataset.test_mask])\n",
    "metrics"
   ]
  },
  {
   "cell_type": "code",
   "execution_count": null,
   "id": "646ca6e2",
   "metadata": {},
   "outputs": [],
   "source": []
  }
 ],
 "metadata": {
  "kernelspec": {
   "display_name": "Python 3 (ipykernel)",
   "language": "python",
   "name": "python3"
  },
  "language_info": {
   "codemirror_mode": {
    "name": "ipython",
    "version": 3
   },
   "file_extension": ".py",
   "mimetype": "text/x-python",
   "name": "python",
   "nbconvert_exporter": "python",
   "pygments_lexer": "ipython3",
   "version": "3.9.13"
  }
 },
 "nbformat": 4,
 "nbformat_minor": 5
}
